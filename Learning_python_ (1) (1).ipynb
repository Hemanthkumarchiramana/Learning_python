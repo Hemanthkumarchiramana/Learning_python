{
  "nbformat": 4,
  "nbformat_minor": 0,
  "metadata": {
    "colab": {
      "provenance": [],
      "collapsed_sections": []
    },
    "kernelspec": {
      "name": "python3",
      "display_name": "Python 3"
    },
    "language_info": {
      "name": "python"
    }
  },
  "cells": [
    {
      "cell_type": "code",
      "execution_count": 6,
      "metadata": {
        "colab": {
          "base_uri": "https://localhost:8080/"
        },
        "id": "rKh3rGnzkz1f",
        "outputId": "3d9f45f4-7e56-4347-a8fc-f1d295a97f2d"
      },
      "outputs": [
        {
          "output_type": "stream",
          "name": "stdout",
          "text": [
            "Hello, what is your name? learns\n",
            "Hello learns\n",
            "How are you today? good\n",
            "I'm feeling good too!\n",
            "What is your favourite colour? gray\n",
            "My favourite colour is Green\n",
            "what is your favourite food ?chicken\n",
            " Hoo me tooo...\n"
          ]
        }
      ],
      "source": [
        "import time\n",
        "name = input(\"Hello, what is your name? \")\n",
        "\n",
        "time.sleep(2)\n",
        "print(\"Hello \" + name)\n",
        "\n",
        "feeling = input(\"How are you today? \")\n",
        "\n",
        "time.sleep(2)\n",
        "if \"good\" in feeling:\n",
        "    print(\"I'm feeling good too!\")\n",
        "else:\n",
        "    print(\"I'm sorry to hear that!\")\n",
        "\n",
        "time.sleep(2)\n",
        "favcolour = input(\"What is your favourite colour? \")\n",
        "\n",
        "colours = [\"Red\",\"Green\",\"Blue\"]\n",
        "\n",
        "time.sleep(2)\n",
        "print(\"My favourite colour is \" + random.choice(colours))\n",
        "\n",
        "time.sleep(2)\n",
        "food = input('what is your favourite food ?')\n",
        "time.sleep(2)\n",
        "print(' Hoo me tooo...')\n"
      ]
    }
  ]
}